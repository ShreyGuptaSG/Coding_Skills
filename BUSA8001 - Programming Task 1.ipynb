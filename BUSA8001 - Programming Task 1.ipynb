{
 "cells": [
  {
   "cell_type": "markdown",
   "metadata": {},
   "source": [
    "**Total Marks**: 10  \n",
    "**Submission**: All your work should be included in this Jupyter notebook. Submit your file using the link on iLearn.\n",
    "\n",
    "\n",
    "Put **all your work** into this notebook and rename it `BUSA8001_programming_task1_MQ_ID.ipynb` where MQ_ID is your Macquarie University student ID number (e.g. if MQ_ID == 12345678: you need to submit BUSA8001_programming_task1_12345678.ipynb). \n",
    "\n",
    "**Failure to submit a correctly named file will result in a loss of 3 marks from the assignment.**\n"
   ]
  },
  {
   "cell_type": "markdown",
   "metadata": {},
   "source": [
    "---\n",
    "\n",
    "## Problem 1 - (6 marks) {-}\n",
    "\n",
    "Create a Python class `family`, which will have the following `attributes`:\n",
    "\n",
    "```\n",
    "my_first_name -> default set to 'Johnathan' by __init__\n",
    "my_family_name -> default set to 'Wick' by __init__\n",
    "my_fathers_name -> default set to 'unknown' by __init__\n",
    "my_mothers_name -> default set to 'unknown' by __init__\n",
    "my_sisters_name -> default set to 'unknown' by __init__\n",
    "my_brothers_name -> default set to 'unknown' by __init__\n",
    "```\n",
    "\n",
    "the class should also contain the following `methods`\n",
    "\n",
    "1. `__init__(self, second_name, first_name)`  (1 marks)\n",
    "\n",
    "This function will assign:  \n",
    "\n",
    "- second_name to my_family_name\n",
    "- first_name to my_first_name\n",
    "- my_fathers_name, my_mothers_name, my_sisters_name and my_brothers_name will all be set to the string 'unknown'\n",
    "\n",
    "\n",
    "2. `return_my_name(self)`   (1 marks)\n",
    "- the function will return a `dictionary` containing two elements as follows: {'my first name' : my_first_name, 'my family name' : my_family_name}\n",
    "    \n",
    "3. `add_parents_names(self, fathers_first_name, mothers_first_name)`   (0.5 marks)\n",
    "- assign fathers_first_name to my_fathers_name\n",
    "- assign mothers_first_name to my_mothers_name\n",
    "        \n",
    "4. `add_siblings_names(self, brothers_first_name, sisters_first_name)`   (0.5 marks)\n",
    "- assign sisters_first_name to my_sisters_name\n",
    "- brothers_first_name to my_brothers_name\n",
    "\n",
    "5. `return_all_first_names(self)`   (1 marks)\n",
    "- this function will return a `list` in the following order: my_first_name, my_mothers_name, my_fathers_name, my_sisters_name, my_brothers_name\n",
    "\n",
    "6. `delete_family_member(self, first_name)`   (2 marks)\n",
    "- Find out if there is a family member whose name corresponds to first_name and set that family member's name to 'unknown', unless first_name is my_first_name in which case return 'Error: cannot delete yourself'.\n",
    "\n",
    "\n"
   ]
  },
  {
   "cell_type": "markdown",
   "metadata": {},
   "source": [
    "**Write your code for Problem 1 in the cell below**"
   ]
  },
  {
   "cell_type": "code",
   "execution_count": 1,
   "metadata": {},
   "outputs": [],
   "source": [
    "import numpy as np\n",
    "\n",
    "class family():\n",
    "    def __init__ (self, second_name = 'Wick', first_name = 'Johnathan'):\n",
    "        self.my_family_name = second_name\n",
    "        self.my_first_name = first_name\n",
    "        self.my_fathers_name = 'unknown'\n",
    "        self.my_mothers_name = 'unknown'\n",
    "        self.my_sisters_name = 'unknown'\n",
    "        self.my_brothers_name = 'unknown'\n",
    "    \n",
    "    def return_my_name(self):\n",
    "        return ({'my first name': self.my_first_name, 'my family name' : self.my_family_name})\n",
    "    \n",
    "    def add_parents_names(self, fathers_first_name, mothers_first_name):\n",
    "        self.my_fathers_name = fathers_first_name\n",
    "        self.my_mothers_name = mothers_first_name\n",
    "        \n",
    "        \n",
    "    def add_siblings_names(self, brothers_first_name, sisters_first_name):\n",
    "        self.my_sisters_name = sisters_first_name \n",
    "        self.my_brothers_name = brothers_first_name  \n",
    "        \n",
    "    def return_all_first_names(self): \n",
    "        return (self.my_first_name, self.my_mothers_name, self.my_fathers_name, self.my_sisters_name, self.my_brothers_name)\n",
    "    \n",
    "    def delete_family_member(self, first_name):\n",
    "        if self.my_fathers_name == first_name :\n",
    "            self.my_fathers_name = 'unknown'\n",
    "        elif self.my_mothers_name == first_name :\n",
    "            self.my_mothers_name = 'unknown'\n",
    "        elif self.my_sisters_name == first_name :\n",
    "            self.my_sisters_name ='unknown'\n",
    "        elif self.my_brothers_name == first_name :\n",
    "            self.my_brothers_name = 'unknown'\n",
    "        else:\n",
    "            first_name == self.my_first_name \n",
    "    \n",
    "    \n",
    " \n"
   ]
  },
  {
   "cell_type": "markdown",
   "metadata": {},
   "source": [
    "---\n",
    "To help you think about the Problem 1 I've provided you with my grading code for the first three questions below"
   ]
  },
  {
   "cell_type": "code",
   "execution_count": 6,
   "metadata": {},
   "outputs": [
    {
     "name": "stdout",
     "output_type": "stream",
     "text": [
      "<__main__.family object at 0x0000021E087F1D90>\n",
      "q1 is correct\n",
      "q2 is correct\n",
      "q3 is correct\n"
     ]
    }
   ],
   "source": [
    "me_first = 'Jean-Luc'\n",
    "me_family = 'Picard'\n",
    "mother_first = 'Yvette'\n",
    "father_first = 'Maurice'\n",
    "sister_first = 'O-Ren'\n",
    "brother_first = 'Robert'\n",
    "\n",
    "\n",
    "grade = 0\n",
    "my_family = family(me_family, me_first)\n",
    "\n",
    "print(my_family)\n",
    "\n",
    "if (my_family.my_first_name == 'Jean-Luc') and (my_family.my_family_name == 'Picard') and (my_family.my_mothers_name == 'unknown'):\n",
    "    print('q1 is correct')\n",
    "    grade += 1\n",
    "else:\n",
    "    print('q1 is incorrect')\n",
    "\n",
    "\n",
    "my_name = my_family.return_my_name() \n",
    "if (isinstance(my_name, dict)) and (len(my_name) == 2) and (my_name['my first name'] == 'Jean-Luc') and (my_name['my family name'] == 'Picard'):\n",
    "    print('q2 is correct')\n",
    "    grade += 1\n",
    "else:\n",
    "    print('q2 is incorrect')\n",
    "\n",
    "\n",
    "my_family.add_parents_names(father_first, mother_first)\n",
    "\n",
    "if (my_family.my_mothers_name == mother_first) and (my_family.my_fathers_name == father_first):\n",
    "    print('q3 is correct')\n",
    "    grade += 0.5\n",
    "else:\n",
    "    print('q3 is incorrect')\n",
    "\n"
   ]
  },
  {
   "cell_type": "markdown",
   "metadata": {},
   "source": [
    "---\n",
    "\n",
    "## Problem 2 - (4 marks) {-}\n",
    "\n",
    "**Question 1 (2 marks)**. Write an `add_two_numpy_arrays(np_array_A, np_array_B)` function, which will do the following tasks:\n",
    "- check if the arrays are conformable for addition,\n",
    "- if they are conformable then return their sum using the addition operator\n",
    "- if they are not conformable then return the following text: \"arrays are not conformable\"\n",
    "\n",
    "\n",
    "**Question 2 (2 marks)**. Write a `multiply_two_numpy_arrays(np_array_A, np_array_B)` function, which will do the following tasks:\n",
    "- check if the arrays are conformable for multiplication,\n",
    "- if they are conformable then return their product using an appropriate `numpy` function or an appropriate Python operator\n",
    "- if they are not conformable then return the following text: \"arrays are not conformable\"\n",
    "\n"
   ]
  },
  {
   "cell_type": "markdown",
   "metadata": {},
   "source": [
    "**Write your code for Problem 2 in the cell below**"
   ]
  },
  {
   "cell_type": "code",
   "execution_count": 3,
   "metadata": {},
   "outputs": [],
   "source": [
    "def add_two_numpy_arrays(np_array_A, np_array_B):\n",
    "    if np_array_A.shape != np_array_B.shape:\n",
    "        return (\"arrays are not conformable\")\n",
    "    else:\n",
    "        return np.add(np_array_A, np_array_B)\n",
    "        \n",
    "def multiply_two_numpy_arrays(np_array_A, np_array_B):\n",
    "    if np_array_A.shape[1] == np_array_B.shape[0]:\n",
    "        return np.dot(np_array_A,np_array_B)\n",
    "    else:\n",
    "        return (\"arrays are not conformable\")"
   ]
  },
  {
   "cell_type": "markdown",
   "metadata": {},
   "source": [
    "---\n",
    "---\n",
    "Your program will be used in the following way"
   ]
  },
  {
   "cell_type": "code",
   "execution_count": 7,
   "metadata": {},
   "outputs": [],
   "source": [
    "import numpy as np\n",
    "\n",
    "A = np.random.rand(np.random.randint(2, 4), np.random.randint(2, 4)) # random array of random dimensions\n",
    "B = np.random.rand(np.random.randint(2, 3), np.random.randint(2, 3)) # random array of random dimensions\n",
    "\n",
    "result_addition = add_two_numpy_arrays(A, B)\n",
    "result_multiplication = multiply_two_numpy_arrays(A, B)\n",
    "\n",
    "# will do tests on the results here to check that they are correct\n",
    "\n"
   ]
  },
  {
   "cell_type": "code",
   "execution_count": null,
   "metadata": {},
   "outputs": [],
   "source": []
  }
 ],
 "metadata": {
  "kernelspec": {
   "display_name": "Python 3",
   "language": "python",
   "name": "python3"
  },
  "language_info": {
   "codemirror_mode": {
    "name": "ipython",
    "version": 3
   },
   "file_extension": ".py",
   "mimetype": "text/x-python",
   "name": "python",
   "nbconvert_exporter": "python",
   "pygments_lexer": "ipython3",
   "version": "3.8.8"
  }
 },
 "nbformat": 4,
 "nbformat_minor": 4
}
